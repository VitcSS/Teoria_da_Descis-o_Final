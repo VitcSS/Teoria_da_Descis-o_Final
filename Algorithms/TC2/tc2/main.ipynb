{
 "cells": [
  {
   "cell_type": "code",
   "execution_count": 102,
   "metadata": {},
   "outputs": [],
   "source": [
    "import pandas as pd\n",
    "import numpy as np\n",
    "from random import randint\n",
    "from copy import deepcopy"
   ]
  },
  {
   "cell_type": "code",
   "execution_count": 103,
   "metadata": {},
   "outputs": [],
   "source": [
    "weights: list[int] = np.array([1,1,1,1,1,-1,-1])"
   ]
  },
  {
   "cell_type": "code",
   "execution_count": 104,
   "metadata": {},
   "outputs": [],
   "source": [
    "def score(input : np.array, w : np.array) -> np.array:\n",
    "    return np.dot(input,w)"
   ]
  },
  {
   "cell_type": "code",
   "execution_count": 105,
   "metadata": {},
   "outputs": [],
   "source": [
    "class struct:\n",
    "    def __init__(self, path : str = \"C:/Users/vitor/Documentos/Repo/Teoria_da_Descis-o_Final/Algorithms/data/data.csv\" ) -> None:\n",
    "        self.data : pd.DataFrame = pd.read_csv(path)\n",
    "        self.possible_pos : list[str] = ['C', 'PF', 'PG', 'SF', 'SG']\n",
    "        self.player_per_position : dict[str : int] = {'C' : 2, 'PF' : 3, 'PG' : 3, 'SF' : 2, 'SG' : 2}\n",
    "        self.sol : dict[str : list] = {'C' : None, 'PF' : None, 'PG' : None, 'SF' : None, 'SG' : None}\n",
    "        self.salary_cap : int = 123655000\n",
    "        for pos in self.possible_pos:\n",
    "            size : int = self.data[self.data['Pos'] == pos].__len__()\n",
    "            self.sol[pos] = [0 for _ in range(size)]\n",
    "\n",
    "    def per_position(self, pos:  str) -> list[list,np.array, np.array]:\n",
    "        if pos not in self.possible_pos:\n",
    "            exit(-1)\n",
    "        else :\n",
    "            data_for_position : pd.DataFrame = self.data[self.data['Pos'] == pos]\n",
    "            cost_x = data_for_position['Salary'].to_numpy()\n",
    "            names = data_for_position['player_key'].to_list()\n",
    "            score_x = data_for_position.drop(labels=['player_key','Pos','Salary','Unnamed: 0'], axis =  1)\n",
    "            score_y = score(score_x,w=weights)\n",
    "            return names, cost_x, score_y\n",
    "    \n",
    "    @property\n",
    "    def optimal_solution_score(self):\n",
    "        optimal_sol = deepcopy(self.sol)\n",
    "        for pos in self.possible_pos:\n",
    "            names, cost, score = self.per_position(pos)\n",
    "            inds = np.argpartition(score, -self.player_per_position[pos])[-self.player_per_position[pos]:]\n",
    "            optimal_sol[pos] = inds\n",
    "        print(self.objective_cost(optimal_sol))\n",
    "        return optimal_sol\n",
    "    \n",
    "    @property\n",
    "    def optimal_solution_cost(self):\n",
    "        optimal_sol = deepcopy(self.sol)\n",
    "        for pos in self.possible_pos:\n",
    "            names, cost, score = self.per_position(pos)\n",
    "            inds = np.argpartition(cost, self.player_per_position[pos])[:self.player_per_position[pos]]\n",
    "            optimal_sol[pos] = inds\n",
    "        print(self.objective_cost(optimal_sol))\n",
    "        return optimal_sol\n",
    "\n",
    "    def objective_cost(self, sol):\n",
    "        out : int  = 0\n",
    "        for pos in self.possible_pos:\n",
    "            names, cost, score = self.per_position(pos)\n",
    "            out +=  np.sum(cost[sol[pos]])\n",
    "        return out\n",
    "\n",
    "\n",
    "    def objective_score(self, sol):\n",
    "        out : int  = 0\n",
    "        size : int = 0\n",
    "        for pos in self.possible_pos:\n",
    "            names, cost, score = self.per_position(pos)\n",
    "            out +=  np.sum(score[sol[pos]])\n",
    "            size += sol[pos].__len__()\n",
    "        return out/size\n",
    "\n",
    "    def initial_sol_cost(self):\n",
    "        inds : dict[str : list] = {'C' : list(), 'PF' : list(), 'PG' : list(), 'SF' : list(), 'SG' : list()}\n",
    "        for i in range(0,3):\n",
    "            for pos in self.possible_pos:\n",
    "                if i < self.possible_pos[pos]:\n",
    "                    names, cost, score = self.per_position(pos)\n",
    "                    ind = np.argpartition(cost, self.player_per_position[pos])[:self.player_per_position[pos]]\n",
    "                    for index in ind:\n",
    "                         if index not in ind[pos]:\n",
    "                             inds[pos].append(index)\n",
    "                             break\n",
    "        return inds\n",
    "                    \n",
    "                    \n"
   ]
  },
  {
   "cell_type": "code",
   "execution_count": 106,
   "metadata": {},
   "outputs": [
    {
     "name": "stdout",
     "output_type": "stream",
     "text": [
      "416254598\n",
      "Cost : \n",
      "18117321\n"
     ]
    },
    {
     "data": {
      "text/plain": [
       "{'C': array([ 4, 30], dtype=int64),\n",
       " 'PF': array([ 0, 14, 53], dtype=int64),\n",
       " 'PG': array([31, 37,  1], dtype=int64),\n",
       " 'SF': array([ 5, 43], dtype=int64),\n",
       " 'SG': array([ 2, 44], dtype=int64)}"
      ]
     },
     "execution_count": 106,
     "metadata": {},
     "output_type": "execute_result"
    }
   ],
   "source": [
    "problem = struct()\n",
    "problem.optimal_solution_score\n",
    "print('Cost : ')\n",
    "problem.optimal_solution_cost"
   ]
  }
 ],
 "metadata": {
  "kernelspec": {
   "display_name": "Python 3.11.0 ('tc2-Fv24NzWe-py3.11')",
   "language": "python",
   "name": "python3"
  },
  "language_info": {
   "codemirror_mode": {
    "name": "ipython",
    "version": 3
   },
   "file_extension": ".py",
   "mimetype": "text/x-python",
   "name": "python",
   "nbconvert_exporter": "python",
   "pygments_lexer": "ipython3",
   "version": "3.11.0"
  },
  "orig_nbformat": 4,
  "vscode": {
   "interpreter": {
    "hash": "0cf840024d3f1088213b63ba10548701cd55d3da65b27de2290c3ce853496f5e"
   }
  }
 },
 "nbformat": 4,
 "nbformat_minor": 2
}
