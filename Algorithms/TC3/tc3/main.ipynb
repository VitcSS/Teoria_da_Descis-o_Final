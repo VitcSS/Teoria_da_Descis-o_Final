{
 "cells": [
  {
   "cell_type": "code",
   "execution_count": null,
   "metadata": {},
   "outputs": [],
   "source": []
  }
 ],
 "metadata": {
  "kernelspec": {
   "display_name": "Python 3.11.0 64-bit",
   "language": "python",
   "name": "python3"
  },
  "language_info": {
   "name": "python",
   "version": "3.11.0"
  },
  "orig_nbformat": 4,
  "vscode": {
   "interpreter": {
    "hash": "ba685b4a3f8c0502bbccb1f7ac188c9194923a24b7faae06e25aab630b90e8b4"
   }
  }
 },
 "nbformat": 4,
 "nbformat_minor": 2
}
